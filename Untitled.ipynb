{
 "cells": [
  {
   "cell_type": "code",
   "execution_count": 4,
   "id": "a5e99508",
   "metadata": {},
   "outputs": [
    {
     "name": "stdout",
     "output_type": "stream",
     "text": [
      "Enter a number:5\n",
      "Weird\n"
     ]
    }
   ],
   "source": [
    "n=int(input('Enter a number:').strip())\n",
    "if (n%2)==1:\n",
    "    print('Weird')\n",
    "elif (n%2)==0 and n in range(2,6):\n",
    "    print('Not Weird')\n",
    "elif (n%2)==0 and n in range(6,21):\n",
    "    print('Weird')\n",
    "elif (n%2)==0 and n>20:\n",
    "    print('Not Weird')"
   ]
  },
  {
   "cell_type": "code",
   "execution_count": 5,
   "id": "b4b0d58f",
   "metadata": {},
   "outputs": [
    {
     "name": "stdout",
     "output_type": "stream",
     "text": [
      "Hello, World!\n"
     ]
    }
   ],
   "source": [
    "my_string=\"Hello, World!\"\n",
    "print(my_string)\n"
   ]
  },
  {
   "cell_type": "code",
   "execution_count": 9,
   "id": "2f77dbc7",
   "metadata": {},
   "outputs": [
    {
     "name": "stdout",
     "output_type": "stream",
     "text": [
      "a:2\n",
      "b:3\n",
      "sum: 5\n",
      "sub: -1\n",
      "mult: 6\n"
     ]
    }
   ],
   "source": [
    "a = int(input('a:').strip())\n",
    "b = int(input('b:').strip())\n",
    "if a in range(1,(10**10)+1) and b in range(1,(10**10)+1):\n",
    "    print('sum:',a+b)\n",
    "    print('sub:',a-b)\n",
    "    print('mult:',a*b)\n",
    "else:\n",
    "    print('number not valid')"
   ]
  },
  {
   "cell_type": "code",
   "execution_count": 10,
   "id": "0c4438f6",
   "metadata": {},
   "outputs": [
    {
     "name": "stdout",
     "output_type": "stream",
     "text": [
      "a:2\n",
      "b:3\n",
      "int: 0\n",
      "float: 0.6666666666666666\n"
     ]
    }
   ],
   "source": [
    "a = int(input('a:').strip())\n",
    "b = int(input('b:').strip())\n",
    "print('int:',a//b)\n",
    "print('float:',a/b)"
   ]
  },
  {
   "cell_type": "code",
   "execution_count": 15,
   "id": "44d96156",
   "metadata": {},
   "outputs": [
    {
     "name": "stdout",
     "output_type": "stream",
     "text": [
      "Enter a number:5\n",
      "0\n",
      "1\n",
      "4\n",
      "9\n",
      "16\n"
     ]
    }
   ],
   "source": [
    "n=int(input('Enter a number:').strip())\n",
    "\n",
    "for i in range(n):\n",
    "    print(i**2)"
   ]
  },
  {
   "cell_type": "code",
   "execution_count": 3,
   "id": "dea74c53",
   "metadata": {},
   "outputs": [
    {
     "name": "stdout",
     "output_type": "stream",
     "text": [
      "Enter year:1990\n"
     ]
    },
    {
     "data": {
      "text/plain": [
       "False"
      ]
     },
     "execution_count": 3,
     "metadata": {},
     "output_type": "execute_result"
    }
   ],
   "source": [
    "def is_leap(year):\n",
    "    leap=False\n",
    "    \n",
    "    if year%4==0:\n",
    "        if year%100!=0:\n",
    "            if year%400==0:\n",
    "                print(True)\n",
    "            else:\n",
    "                print(leap)\n",
    "        else:\n",
    "            print(leap)\n",
    "    else:\n",
    "        return leap\n",
    "\n",
    "\n",
    "year = int(input('Enter year:'))\n",
    "is_leap(year)"
   ]
  },
  {
   "cell_type": "code",
   "execution_count": 2,
   "id": "7f5060c7",
   "metadata": {},
   "outputs": [
    {
     "name": "stdout",
     "output_type": "stream",
     "text": [
      "Enter a number:5\n",
      "12345"
     ]
    }
   ],
   "source": [
    "n = int(input('Enter a number:'))\n",
    "if n<1 or n>150:\n",
    "    print('Invali number')\n",
    "else:\n",
    "    for i in range(1, n+1):\n",
    "        print(i, end=\"\")"
   ]
  },
  {
   "cell_type": "code",
   "execution_count": 7,
   "id": "86e2e8a9",
   "metadata": {},
   "outputs": [
    {
     "name": "stdout",
     "output_type": "stream",
     "text": [
      "2 2 \n",
      "1 2\n",
      "3 4\n",
      "24\n"
     ]
    }
   ],
   "source": [
    "import numpy as np\n",
    "N, M = map(int, input().split())\n",
    "my_arr = [list(map(int, input().split())) for _ in range(N)]\n",
    "print(np.prod(np.sum(my_arr, axis=0)))"
   ]
  },
  {
   "cell_type": "code",
   "execution_count": null,
   "id": "1cf17fa0",
   "metadata": {},
   "outputs": [],
   "source": []
  }
 ],
 "metadata": {
  "kernelspec": {
   "display_name": "Python 3 (ipykernel)",
   "language": "python",
   "name": "python3"
  },
  "language_info": {
   "codemirror_mode": {
    "name": "ipython",
    "version": 3
   },
   "file_extension": ".py",
   "mimetype": "text/x-python",
   "name": "python",
   "nbconvert_exporter": "python",
   "pygments_lexer": "ipython3",
   "version": "3.9.7"
  }
 },
 "nbformat": 4,
 "nbformat_minor": 5
}
